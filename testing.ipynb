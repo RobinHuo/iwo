{
 "cells": [
  {
   "cell_type": "code",
   "execution_count": 155,
   "metadata": {},
   "outputs": [
    {
     "name": "stdout",
     "output_type": "stream",
     "text": [
      "The autoreload extension is already loaded. To reload it, use:\n",
      "  %reload_ext autoreload\n"
     ]
    }
   ],
   "source": [
    "%load_ext autoreload\n",
    "%autoreload 2\n",
    "\n",
    "import torch \n",
    "from src.utils.iwo import get_Q, complete_orthonormal_basis, get_basis\n",
    "\n",
    "L = 10\n",
    "W_list = [torch.rand(l - 1, l).to(torch.float64) for l in reversed(range(2, L + 1))]\n",
    "B = get_basis(W_list)"
   ]
  },
  {
   "cell_type": "code",
   "execution_count": 159,
   "metadata": {},
   "outputs": [],
   "source": [
    "# Test orthogonality\n",
    "eye = torch.eye(B.size(0), dtype=B.dtype, device=B.device)\n",
    "assert torch.allclose(B.t() @ B, eye, atol=1e-08)\n",
    "\n",
    "# Test that the basis vectors are indeed inside the null space of the next smaller matrix\n",
    "B_flipped = torch.flip(B, dims=[1])\n",
    "for i in range(len(W_list) - 1):\n",
    "    t = B_flipped[:, i : i + 1]\n",
    "    for j in range(i + 1):\n",
    "        t = W_list[j] @ t\n",
    "    # Assert if the the projection is indeed inside the null-space.\n",
    "    assert all(torch.le(t, 1e-6))"
   ]
  },
  {
   "cell_type": "code",
   "execution_count": 101,
   "metadata": {},
   "outputs": [],
   "source": [
    "# Just for comprehension, this is how the basis generation looks like without a for loop. \n",
    "\n",
    "W9 = W_list[0]\n",
    "W8 = W_list[1]\n",
    "W7 = W_list[2]\n",
    "W6 = W_list[3]\n",
    "W5 = W_list[4]\n",
    "W4 = W_list[5]\n",
    "W3 = W_list[6]\n",
    "W2 = W_list[7]\n",
    "W1 = W_list[8]\n",
    "\n",
    "A = W9.t() @ W9\n",
    "L, Q = torch.linalg.eigh(A)\n",
    "b10 = Q[:,0:1]\n",
    "\n",
    "A = (W8 @ W9).t() @ (W8 @ W9)\n",
    "L, Q = torch.linalg.eigh(A)\n",
    "T = torch.concat([Q[:, 2:], b10], axis=1)\n",
    "Qr, _ = torch.linalg.qr(T, mode=\"complete\")\n",
    "b9 = Qr[:, -1:]\n",
    "\n",
    "A = (W7 @ W8 @ W9).t() @ (W7 @ W8 @ W9)\n",
    "L, Q = torch.linalg.eigh(A)\n",
    "T = torch.concat([Q[:, 3:], b9, b10], axis=1)\n",
    "Qr, _ = torch.linalg.qr(T, mode=\"complete\")\n",
    "b8 = Qr[:, -1:]\n",
    "\n",
    "A = (W6 @ W7 @ W8 @ W9).t() @ (W6 @ W7 @ W8 @ W9)\n",
    "L, Q = torch.linalg.eigh(A)\n",
    "T = torch.concat([Q[:, 4:], b8, b9, b10], axis=1)\n",
    "Qr, _ = torch.linalg.qr(T, mode=\"complete\")\n",
    "b7 = Qr[:, -1:]\n",
    "\n",
    "A = (W5 @ W6 @ W7 @ W8 @ W9).t() @ (W5 @ W6 @ W7 @ W8 @ W9)\n",
    "L, Q = torch.linalg.eigh(A)\n",
    "T = torch.concat([Q[:, 5:], b7, b8, b9, b10], axis=1)\n",
    "Qr, _ = torch.linalg.qr(T, mode=\"complete\")\n",
    "b6 = Qr[:, -1:]\n",
    "\n",
    "A = (W4 @ W5 @ W6 @ W7 @ W8 @ W9).t() @ (W4 @ W5 @ W6 @ W7 @ W8 @ W9)\n",
    "L, Q = torch.linalg.eigh(A)\n",
    "T = torch.concat([Q[:, 6:], b6, b7, b8, b9, b10], axis=1)\n",
    "Qr, _ = torch.linalg.qr(T, mode=\"complete\")\n",
    "b5 = Qr[:, -1:]\n",
    "\n",
    "A = (W3 @ W4 @ W5 @ W6 @ W7 @ W8 @ W9).t() @ (W3 @ W4 @ W5 @ W6 @ W7 @ W8 @ W9)\n",
    "L, Q = torch.linalg.eigh(A)\n",
    "T = torch.concat([Q[:, 7:], b5, b6, b7, b8, b9, b10], axis=1)\n",
    "Qr, _ = torch.linalg.qr(T, mode=\"complete\")\n",
    "b4 = Qr[:, -1:]\n",
    "\n",
    "A = (W2 @ W3 @ W4 @ W5 @ W6 @ W7 @ W8 @ W9).t() @ (W2 @ W3 @ W4 @ W5 @ W6 @ W7 @ W8 @ W9)\n",
    "L, Q = torch.linalg.eigh(A)\n",
    "T = torch.concat([Q[:, 8:], b4, b5, b6, b7, b8, b9, b10], axis=1)\n",
    "Qr, _ = torch.linalg.qr(T, mode=\"complete\")\n",
    "b3 = Qr[:, -1:]\n",
    "\n",
    "A = (W1 @ W2 @ W3 @ W4 @ W5 @ W6 @ W7 @ W8 @ W9).t() @ (\n",
    "    W1 @ W2 @ W3 @ W4 @ W5 @ W6 @ W7 @ W8 @ W9\n",
    ")\n",
    "L, Q = torch.linalg.eigh(A)\n",
    "T = torch.concat([Q[:, 9:], b3, b4, b5, b6, b7, b8, b9, b10], axis=1)\n",
    "Qr, _ = torch.linalg.qr(T, mode=\"complete\")\n",
    "b2 = Qr[:, -1:]\n",
    "\n",
    "\n",
    "T = torch.concat([b2, b3, b4, b5, b6, b7, b8, b9, b10], axis=1)\n",
    "Qr, _ = torch.linalg.qr(T, mode=\"complete\")\n",
    "b1 = Qr[:, -1:]"
   ]
  }
 ],
 "metadata": {
  "kernelspec": {
   "display_name": ".venv",
   "language": "python",
   "name": "python3"
  },
  "language_info": {
   "codemirror_mode": {
    "name": "ipython",
    "version": 3
   },
   "file_extension": ".py",
   "mimetype": "text/x-python",
   "name": "python",
   "nbconvert_exporter": "python",
   "pygments_lexer": "ipython3",
   "version": "3.11.8"
  }
 },
 "nbformat": 4,
 "nbformat_minor": 2
}
