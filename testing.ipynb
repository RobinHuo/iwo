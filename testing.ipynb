{
 "cells": [
  {
   "cell_type": "code",
   "execution_count": 2,
   "metadata": {},
   "outputs": [],
   "source": [
    "%load_ext autoreload\n",
    "%autoreload 2\n",
    "\n",
    "import torch \n",
    "from src.utils.iwo import complete_orthonormal_basis, get_basis\n",
    "\n",
    "L = 10\n",
    "W_list = [torch.rand(l - 1, l).to(torch.float64) for l in reversed(range(2, L + 1))]\n",
    "B = get_basis(W_list)\n",
    "\n",
    "# Test orthogonality\n",
    "eye = torch.eye(B.size(0), dtype=B.dtype, device=B.device)\n",
    "assert torch.allclose(B.t() @ B, eye, atol=1e-08)\n",
    "\n",
    "# Test that the basis vectors are indeed inside the null space of the next smaller matrix\n",
    "B_flipped = torch.flip(B, dims=[1])  # Re-order from least important to most important\n",
    "for i in range(len(W_list) - 1):\n",
    "    t = B_flipped[:, i : i + 1]\n",
    "    for j in range(i + 1):\n",
    "        t = W_list[j] @ t\n",
    "    # Assert if the the projection is indeed inside the null-space.\n",
    "    assert all(torch.le(t, 1e-6))"
   ]
  }
 ],
 "metadata": {
  "kernelspec": {
   "display_name": ".venv",
   "language": "python",
   "name": "python3"
  },
  "language_info": {
   "codemirror_mode": {
    "name": "ipython",
    "version": 3
   },
   "file_extension": ".py",
   "mimetype": "text/x-python",
   "name": "python",
   "nbconvert_exporter": "python",
   "pygments_lexer": "ipython3",
   "version": "3.11.6"
  }
 },
 "nbformat": 4,
 "nbformat_minor": 2
}
