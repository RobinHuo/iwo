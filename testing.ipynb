{
 "cells": [
  {
   "cell_type": "code",
   "execution_count": 17,
   "metadata": {},
   "outputs": [],
   "source": [
    "import torch \n",
    "from src.utils.iwo import get_Q, complete_orthonormal_basis, get_basis\n",
    "\n",
    "L = 10\n",
    "m_list = [torch.randn(l - 1, l).to(torch.float64) for l in reversed(range(2, L + 1))]\n",
    "\n",
    "# Sanity check QR decomposition and basis completion.\n",
    "QL = get_Q(m_list[0])\n",
    "qL = complete_orthonormal_basis(QL)\n",
    "assert all(torch.le(m_list[0] @ qL.t(), 1e-5))\n",
    "\n",
    "# Run basis generation.\n",
    "B = get_basis(m_list)\n",
    "\n",
    "# The projection of the l-th basis vector after propagating it through matrices W_L ... W_l should lie in the null-space of W_{l-1}.\n",
    "# We verify this in continuation.\n",
    "\n",
    "# Flip the tensor, so that the basis vector with the smallest importance comes first.\n",
    "B = torch.flip(B, dims=[1])\n",
    "\n",
    "for i in range(len(m_list) - 1):\n",
    "    t = B[:, i : i + 1]\n",
    "    for j in range(i + 1):\n",
    "        t = m_list[j] @ t\n",
    "    # Assert if the the projection is indeed inside the null-space.\n",
    "    assert all(torch.le(t, 1e-3))"
   ]
  },
  {
   "cell_type": "code",
   "execution_count": 10,
   "metadata": {},
   "outputs": [
    {
     "data": {
      "text/plain": [
       "tensor([1.0000, 1.0000, 1.0000, 1.0000, 1.0000, 1.0000, 1.0000, 1.0000, 1.0000,\n",
       "        1.0000])"
      ]
     },
     "execution_count": 10,
     "metadata": {},
     "output_type": "execute_result"
    }
   ],
   "source": [
    "B.pow(2).sum(0).sqrt()"
   ]
  },
  {
   "cell_type": "code",
   "execution_count": null,
   "metadata": {},
   "outputs": [],
   "source": []
  }
 ],
 "metadata": {
  "kernelspec": {
   "display_name": ".venv",
   "language": "python",
   "name": "python3"
  },
  "language_info": {
   "codemirror_mode": {
    "name": "ipython",
    "version": 3
   },
   "file_extension": ".py",
   "mimetype": "text/x-python",
   "name": "python",
   "nbconvert_exporter": "python",
   "pygments_lexer": "ipython3",
   "version": "3.11.8"
  }
 },
 "nbformat": 4,
 "nbformat_minor": 2
}
